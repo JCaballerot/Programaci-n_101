{
  "nbformat": 4,
  "nbformat_minor": 0,
  "metadata": {
    "colab": {
      "provenance": [],
      "include_colab_link": true
    },
    "kernelspec": {
      "name": "python3",
      "display_name": "Python 3"
    },
    "language_info": {
      "name": "python"
    }
  },
  "cells": [
    {
      "cell_type": "markdown",
      "metadata": {
        "id": "view-in-github",
        "colab_type": "text"
      },
      "source": [
        "<a href=\"https://colab.research.google.com/github/hvu88/Programacion_101/blob/main/01_Introduccion_a_Python/01_Fundamentos_de_Programaci%C3%B3n.ipynb\" target=\"_parent\"><img src=\"https://colab.research.google.com/assets/colab-badge.svg\" alt=\"Open In Colab\"/></a>"
      ]
    },
    {
      "cell_type": "markdown",
      "source": [
        "<img src=\"https://www.ctic.uni.edu.pe/wp-content/uploads/2022/04/588px-x-348px-web-1.png\" alt=\"HTML5 Icon\" width=\"900\" height=\"350\" >\n"
      ],
      "metadata": {
        "id": "a2Ojkh4ciEiA"
      }
    },
    {
      "cell_type": "markdown",
      "source": [
        "<h1 align=center><font size = 5>FUNDAMENTOS DE PROGRAMACIÓN\n",
        "</font></h1>\n",
        "\n",
        "---"
      ],
      "metadata": {
        "id": "-amNk-kqiHO2"
      }
    },
    {
      "cell_type": "markdown",
      "source": [
        "## Tabla de Contenidos\n",
        "\n",
        "<div class=\"alert alert-block alert-info\" style=\"margin-top: 20px\">\n",
        "\n",
        "<font size = 3>\n",
        "    \n",
        "1. <a href=\"#item31\">Tipos básicos de datos</a>  \n",
        "2. <a href=\"#item31\">Manipulación de strings</a>  \n",
        "3. <a href=\"#item31\">Estructuras condicionales</a>  \n",
        "4. <a href=\"#item31\">Desafío</a>  \n",
        "</font>\n",
        "</div>\n",
        "\n",
        "---"
      ],
      "metadata": {
        "id": "qJ6hLRHNiQCG"
      }
    },
    {
      "cell_type": "markdown",
      "source": [
        "## <b>Objetivo:</b>\n",
        "\n",
        "Desarrollar habilidades para trabajar con tipos de datos básicos, manipulación de cadenas y la aplicación de estructuras condicionales en Python.\n",
        "\n",
        "---"
      ],
      "metadata": {
        "id": "1XCUOST_igWZ"
      }
    },
    {
      "cell_type": "markdown",
      "source": [
        "## <b>1. Tipos básicos de datos</b>\n",
        "\n",
        "Enteros, flotantes, cadenas y booleanos, con énfasis en cómo utilizarlos en operaciones básicas.\n",
        "\n"
      ],
      "metadata": {
        "id": "MWslSPQKjLYb"
      }
    },
    {
      "cell_type": "markdown",
      "source": [
        "### Verificando la versión de Python"
      ],
      "metadata": {
        "id": "SdnlyoStB_pK"
      }
    },
    {
      "cell_type": "code",
      "source": [
        "!python3"
      ],
      "metadata": {
        "id": "xFe_fHtsApoC",
        "outputId": "7a380575-121f-4786-8f09-090903734981",
        "colab": {
          "base_uri": "https://localhost:8080/"
        }
      },
      "execution_count": null,
      "outputs": [
        {
          "output_type": "stream",
          "name": "stdout",
          "text": [
            "Python 3.10.12 (main, Jul 29 2024, 16:56:48) [GCC 11.4.0] on linux\n",
            "Type \"help\", \"copyright\", \"credits\" or \"license\" for more information.\n",
            ">>> license\n",
            "Type license() to see the full license text\n",
            ">>> license()\n",
            "A. HISTORY OF THE SOFTWARE\n",
            "==========================\n",
            "\n",
            "Python was created in the early 1990s by Guido van Rossum at Stichting\n",
            "Mathematisch Centrum (CWI, see https://www.cwi.nl) in the Netherlands\n",
            "as a successor of a language called ABC.  Guido remains Python's\n",
            "principal author, although it includes many contributions from others.\n",
            "\n",
            "In 1995, Guido continued his work on Python at the Corporation for\n",
            "National Research Initiatives (CNRI, see https://www.cnri.reston.va.us)\n",
            "in Reston, Virginia where he released several versions of the\n",
            "software.\n",
            "\n",
            "In May 2000, Guido and the Python core development team moved to\n",
            "BeOpen.com to form the BeOpen PythonLabs team.  In October of the same\n",
            "year, the PythonLabs team moved to Digital Creations, which became\n",
            "Zope Corporation.  In 2001, the Python Software Foundation (PSF, see\n",
            "https://www.python.org/psf/) was formed, a non-profit organization\n",
            "created specifically to own Python-related Intellectual Property.\n",
            "Zope Corporation was a sponsoring member of the PSF.\n",
            "\n",
            "All Python releases are Open Source (see https://opensource.org for\n",
            "the Open Source Definition).  Historically, most, but not all, Python\n",
            "Hit Return for more, or q (and Return) to quit: \n",
            ">>> ^C\n"
          ]
        }
      ]
    },
    {
      "cell_type": "markdown",
      "source": [
        "### Ejecutando en Python"
      ],
      "metadata": {
        "id": "t1iB2a_1A_Nd"
      }
    },
    {
      "cell_type": "code",
      "source": [
        "print(\"Hello Python interpreter!\")"
      ],
      "metadata": {
        "id": "_GUyponPAi_Z",
        "outputId": "1e3919e6-3437-4139-82f6-d4af2e63d348",
        "colab": {
          "base_uri": "https://localhost:8080/"
        }
      },
      "execution_count": 1,
      "outputs": [
        {
          "output_type": "stream",
          "name": "stdout",
          "text": [
            "Hello Python interpreter!\n"
          ]
        }
      ]
    },
    {
      "cell_type": "markdown",
      "source": [
        "### Variables en Python"
      ],
      "metadata": {
        "id": "sthjyiw1BYm4"
      }
    },
    {
      "cell_type": "code",
      "source": [
        "message = \"Hello Python world!\"\n",
        "print(message)"
      ],
      "metadata": {
        "id": "mGbrzOEtBa7g",
        "outputId": "9fb7bf42-e23d-4868-cd55-4d26f3ac3bc9",
        "colab": {
          "base_uri": "https://localhost:8080/"
        }
      },
      "execution_count": 2,
      "outputs": [
        {
          "output_type": "stream",
          "name": "stdout",
          "text": [
            "Hello Python world!\n"
          ]
        }
      ]
    },
    {
      "cell_type": "markdown",
      "source": [
        "### Usando variables con strings"
      ],
      "metadata": {
        "id": "67A0ZgROBH2G"
      }
    },
    {
      "cell_type": "code",
      "source": [
        "first_name = \"John\"\n",
        "last_name = \"Caballero\"\n",
        "\n",
        "full_name = f\"{first_name} {last_name}\"\n",
        "print(full_name)\n"
      ],
      "metadata": {
        "id": "imkWRD_NGhM7",
        "outputId": "0a754bd3-69d2-4034-8001-0e24efc213d1",
        "colab": {
          "base_uri": "https://localhost:8080/"
        }
      },
      "execution_count": 4,
      "outputs": [
        {
          "output_type": "stream",
          "name": "stdout",
          "text": [
            "John Caballero\n"
          ]
        }
      ]
    },
    {
      "cell_type": "code",
      "source": [
        "from datetime import datetime\n",
        "\n",
        "first_name = str(input('Ingrese el primer nombre: '))\n",
        "last_name = str(input('Ingrese el apellido: '))\n",
        "age = int(input('Ingrese su edad: '))\n",
        "current_year= datetime.now().year\n",
        "birth_year = current_year - age\n",
        "\n",
        "full_name = f\"{first_name} {last_name}\"\n",
        "print(f\"Bienvenido {full_name}!\")\n",
        "print(f\"Año de nacimiento: {birth_year}\")\n"
      ],
      "metadata": {
        "id": "ldadfir2G-ee",
        "outputId": "a1ec747e-13a8-4a85-9d07-3b9bf77cd97e",
        "colab": {
          "base_uri": "https://localhost:8080/"
        }
      },
      "execution_count": 34,
      "outputs": [
        {
          "output_type": "stream",
          "name": "stdout",
          "text": [
            "Ingrese el primer nombre: h\n",
            "Ingrese el apellido: h\n",
            "Ingrese su edad: 29\n",
            "Bienvenido h h!\n",
            "Año de nacimiento: 1995\n"
          ]
        }
      ]
    },
    {
      "cell_type": "code",
      "source": [
        "print(f\"Hola, {full_name.title()}!\")"
      ],
      "metadata": {
        "id": "9DXlUqRdHWpy",
        "outputId": "8b70266e-5677-490b-b5de-e15153b0c7e9",
        "colab": {
          "base_uri": "https://localhost:8080/"
        }
      },
      "execution_count": 14,
      "outputs": [
        {
          "output_type": "stream",
          "name": "stdout",
          "text": [
            "Hola, Hugi Villa!\n"
          ]
        }
      ]
    },
    {
      "cell_type": "code",
      "source": [
        "message = f\"Hola, {full_name.title()}!\"\n",
        "print(message)"
      ],
      "metadata": {
        "id": "ovwhbcW4HnNO",
        "outputId": "96a3d463-2a46-4956-bc5a-4617b667005b",
        "colab": {
          "base_uri": "https://localhost:8080/"
        }
      },
      "execution_count": 15,
      "outputs": [
        {
          "output_type": "stream",
          "name": "stdout",
          "text": [
            "Hola, Hugi Villa!\n"
          ]
        }
      ]
    },
    {
      "cell_type": "code",
      "source": [
        "print(\"Python\")"
      ],
      "metadata": {
        "id": "d7c9EIszIADO",
        "outputId": "8529e1df-4f53-4efe-e5c1-9e54e836ad8d",
        "colab": {
          "base_uri": "https://localhost:8080/"
        }
      },
      "execution_count": 16,
      "outputs": [
        {
          "output_type": "stream",
          "name": "stdout",
          "text": [
            "Python\n"
          ]
        }
      ]
    },
    {
      "cell_type": "code",
      "source": [
        "print(\"Python's\")"
      ],
      "metadata": {
        "id": "ypepBjltTCHR",
        "outputId": "8b9c100c-77a1-431c-f5c4-e812c4f83d3b",
        "colab": {
          "base_uri": "https://localhost:8080/"
        }
      },
      "execution_count": 17,
      "outputs": [
        {
          "output_type": "stream",
          "name": "stdout",
          "text": [
            "Python's\n"
          ]
        }
      ]
    },
    {
      "cell_type": "code",
      "source": [
        "print(\"\\tPython\\n\\tR\")"
      ],
      "metadata": {
        "id": "hGmARCyTH_8F",
        "outputId": "b4b4ca98-05db-43c6-ecef-e1a790c022c6",
        "colab": {
          "base_uri": "https://localhost:8080/"
        }
      },
      "execution_count": 18,
      "outputs": [
        {
          "output_type": "stream",
          "name": "stdout",
          "text": [
            "\tPython\n",
            "\tR\n"
          ]
        }
      ]
    },
    {
      "cell_type": "code",
      "source": [
        "print(\"Languages:\\nPython\\nC\\nJavaScript\")"
      ],
      "metadata": {
        "id": "7sLWgXNbH_zY",
        "outputId": "911adc81-3ee7-4846-bb7f-06dbe91211c1",
        "colab": {
          "base_uri": "https://localhost:8080/"
        }
      },
      "execution_count": 19,
      "outputs": [
        {
          "output_type": "stream",
          "name": "stdout",
          "text": [
            "Languages:\n",
            "Python\n",
            "C\n",
            "JavaScript\n"
          ]
        }
      ]
    },
    {
      "cell_type": "code",
      "source": [
        "print(\"Languages:\\n\\tPython\\n\\tC\\n\\tJavaScript\")"
      ],
      "metadata": {
        "id": "GHwzRJQeIgCo",
        "outputId": "4a820715-97a3-4e83-acf7-58c58b44fa6c",
        "colab": {
          "base_uri": "https://localhost:8080/"
        }
      },
      "execution_count": 20,
      "outputs": [
        {
          "output_type": "stream",
          "name": "stdout",
          "text": [
            "Languages:\n",
            "\tPython\n",
            "\tC\n",
            "\tJavaScript\n"
          ]
        }
      ]
    },
    {
      "cell_type": "markdown",
      "source": [
        "### Espacios en python"
      ],
      "metadata": {
        "id": "uV4g9yt5It7q"
      }
    },
    {
      "cell_type": "code",
      "source": [
        "favorite_language = '   python     '\n",
        "favorite_language"
      ],
      "metadata": {
        "id": "3WM1AbohIpnt",
        "outputId": "0eab0f59-5962-40d3-eced-24c82379a3c8",
        "colab": {
          "base_uri": "https://localhost:8080/",
          "height": 35
        }
      },
      "execution_count": 21,
      "outputs": [
        {
          "output_type": "execute_result",
          "data": {
            "text/plain": [
              "'   python     '"
            ],
            "application/vnd.google.colaboratory.intrinsic+json": {
              "type": "string"
            }
          },
          "metadata": {},
          "execution_count": 21
        }
      ]
    },
    {
      "cell_type": "code",
      "source": [
        "print(favorite_language.rstrip())\n",
        "print(favorite_language.lstrip())\n",
        "print(favorite_language.strip())"
      ],
      "metadata": {
        "id": "L465tOhkIqNd",
        "outputId": "7eebb6f7-d4fb-4bd2-821c-e9f534ba6bd8",
        "colab": {
          "base_uri": "https://localhost:8080/"
        }
      },
      "execution_count": 22,
      "outputs": [
        {
          "output_type": "stream",
          "name": "stdout",
          "text": [
            "   python\n",
            "python     \n",
            "python\n"
          ]
        }
      ]
    },
    {
      "cell_type": "code",
      "source": [
        "favorite_language"
      ],
      "metadata": {
        "id": "7AFWklYBJzQ6",
        "outputId": "257a3df9-c8f3-4443-a4cc-f1786f49e8b1",
        "colab": {
          "base_uri": "https://localhost:8080/",
          "height": 35
        }
      },
      "execution_count": 23,
      "outputs": [
        {
          "output_type": "execute_result",
          "data": {
            "text/plain": [
              "'   python     '"
            ],
            "application/vnd.google.colaboratory.intrinsic+json": {
              "type": "string"
            }
          },
          "metadata": {},
          "execution_count": 23
        }
      ]
    },
    {
      "cell_type": "code",
      "source": [
        "print(len(favorite_language))\n",
        "print(len(favorite_language.strip()))"
      ],
      "metadata": {
        "id": "ozguI9ZoT061",
        "outputId": "48082e04-ed15-4e9e-ff4f-53f004b29a7b",
        "colab": {
          "base_uri": "https://localhost:8080/"
        }
      },
      "execution_count": 24,
      "outputs": [
        {
          "output_type": "stream",
          "name": "stdout",
          "text": [
            "14\n",
            "6\n"
          ]
        }
      ]
    },
    {
      "cell_type": "code",
      "source": [
        "favorite_language = 'python '\n",
        "favorite_language = favorite_language.rstrip()\n",
        "favorite_language"
      ],
      "metadata": {
        "id": "9fqYGKCRJk1R",
        "outputId": "ece0b3b1-c37f-4afd-e40f-436365d56004",
        "colab": {
          "base_uri": "https://localhost:8080/",
          "height": 35
        }
      },
      "execution_count": 5,
      "outputs": [
        {
          "output_type": "execute_result",
          "data": {
            "text/plain": [
              "'python'"
            ],
            "application/vnd.google.colaboratory.intrinsic+json": {
              "type": "string"
            }
          },
          "metadata": {},
          "execution_count": 5
        }
      ]
    },
    {
      "cell_type": "code",
      "source": [
        "favorite_language = ' python '\n",
        "favorite_language"
      ],
      "metadata": {
        "id": "3uDiKbdIKI0M",
        "outputId": "6cfc671d-f2e9-4a8b-c28c-ad263314aab7",
        "colab": {
          "base_uri": "https://localhost:8080/",
          "height": 35
        }
      },
      "execution_count": 6,
      "outputs": [
        {
          "output_type": "execute_result",
          "data": {
            "text/plain": [
              "' python '"
            ],
            "application/vnd.google.colaboratory.intrinsic+json": {
              "type": "string"
            }
          },
          "metadata": {},
          "execution_count": 6
        }
      ]
    },
    {
      "cell_type": "code",
      "source": [
        "favorite_language.rstrip()"
      ],
      "metadata": {
        "id": "FbVFEWqQKSwS",
        "outputId": "d3aec032-11ed-4791-ae5e-61d7d71d8bae",
        "colab": {
          "base_uri": "https://localhost:8080/",
          "height": 35
        }
      },
      "execution_count": 7,
      "outputs": [
        {
          "output_type": "execute_result",
          "data": {
            "text/plain": [
              "' python'"
            ],
            "application/vnd.google.colaboratory.intrinsic+json": {
              "type": "string"
            }
          },
          "metadata": {},
          "execution_count": 7
        }
      ]
    },
    {
      "cell_type": "code",
      "source": [
        "favorite_language.lstrip()"
      ],
      "metadata": {
        "id": "tE4HafwRKJx6",
        "outputId": "a5eee9b8-1f53-4a86-d714-d1807515b2bd",
        "colab": {
          "base_uri": "https://localhost:8080/",
          "height": 35
        }
      },
      "execution_count": 8,
      "outputs": [
        {
          "output_type": "execute_result",
          "data": {
            "text/plain": [
              "'python '"
            ],
            "application/vnd.google.colaboratory.intrinsic+json": {
              "type": "string"
            }
          },
          "metadata": {},
          "execution_count": 8
        }
      ]
    },
    {
      "cell_type": "code",
      "source": [
        "favorite_language.strip()"
      ],
      "metadata": {
        "id": "ZgZ9X5kgKJUS",
        "outputId": "2fd8068b-e712-48fd-dff9-ecd9999f4130",
        "colab": {
          "base_uri": "https://localhost:8080/",
          "height": 35
        }
      },
      "execution_count": 9,
      "outputs": [
        {
          "output_type": "execute_result",
          "data": {
            "text/plain": [
              "'python'"
            ],
            "application/vnd.google.colaboratory.intrinsic+json": {
              "type": "string"
            }
          },
          "metadata": {},
          "execution_count": 9
        }
      ]
    },
    {
      "cell_type": "markdown",
      "source": [
        "### Problemas comunes"
      ],
      "metadata": {
        "id": "RSYDstcmLdkD"
      }
    },
    {
      "cell_type": "code",
      "source": [
        "message = \"El libro 'Harry Potter' fue un best seller\"\n",
        "print(message)"
      ],
      "metadata": {
        "id": "Tm8cU1yqLc5M",
        "outputId": "48d7a6bd-5312-4d99-fb7e-fad5be0a4d58",
        "colab": {
          "base_uri": "https://localhost:8080/"
        }
      },
      "execution_count": 10,
      "outputs": [
        {
          "output_type": "stream",
          "name": "stdout",
          "text": [
            "El libro 'Harry Potter' fue un best seller\n"
          ]
        }
      ]
    },
    {
      "cell_type": "code",
      "source": [
        "message = \"One of Python's strengths is its diverse community.\"\n",
        "print(message)"
      ],
      "metadata": {
        "id": "nxUO09lkNFuk",
        "outputId": "676eace4-d4c3-414c-ed31-329f0972b423",
        "colab": {
          "base_uri": "https://localhost:8080/"
        }
      },
      "execution_count": 12,
      "outputs": [
        {
          "output_type": "stream",
          "name": "stdout",
          "text": [
            "One of Python's strengths is its diverse community.\n"
          ]
        }
      ]
    },
    {
      "cell_type": "markdown",
      "source": [
        "### Números"
      ],
      "metadata": {
        "id": "cf-y9DtENQLY"
      }
    },
    {
      "cell_type": "code",
      "source": [
        "2 + 3"
      ],
      "metadata": {
        "id": "NU8oYEG9NPWl",
        "outputId": "19a1eed2-e8b2-47c2-ffd2-114c1bafc83e",
        "colab": {
          "base_uri": "https://localhost:8080/"
        }
      },
      "execution_count": 25,
      "outputs": [
        {
          "output_type": "execute_result",
          "data": {
            "text/plain": [
              "5"
            ]
          },
          "metadata": {},
          "execution_count": 25
        }
      ]
    },
    {
      "cell_type": "code",
      "source": [
        "3 ** 2"
      ],
      "metadata": {
        "id": "UR4mC6E-Nbhw",
        "outputId": "d8afb2be-60ca-40a7-e476-66cf44d55e42",
        "colab": {
          "base_uri": "https://localhost:8080/"
        }
      },
      "execution_count": 26,
      "outputs": [
        {
          "output_type": "execute_result",
          "data": {
            "text/plain": [
              "9"
            ]
          },
          "metadata": {},
          "execution_count": 26
        }
      ]
    },
    {
      "cell_type": "code",
      "source": [
        "(2 + 3) * 4"
      ],
      "metadata": {
        "id": "K_Gln-FfNeO9",
        "outputId": "1e1095a5-f5ef-46e8-d28b-5978fd911164",
        "colab": {
          "base_uri": "https://localhost:8080/"
        }
      },
      "execution_count": 27,
      "outputs": [
        {
          "output_type": "execute_result",
          "data": {
            "text/plain": [
              "20"
            ]
          },
          "metadata": {},
          "execution_count": 27
        }
      ]
    },
    {
      "cell_type": "markdown",
      "source": [
        "### Floats"
      ],
      "metadata": {
        "id": "ubo6p0b-NhjD"
      }
    },
    {
      "cell_type": "code",
      "source": [
        "0.1 + 0.1"
      ],
      "metadata": {
        "id": "RQxlR6oyNmoG",
        "outputId": "733dc839-101e-4820-a115-c3d7749ee56b",
        "colab": {
          "base_uri": "https://localhost:8080/"
        }
      },
      "execution_count": 28,
      "outputs": [
        {
          "output_type": "execute_result",
          "data": {
            "text/plain": [
              "0.2"
            ]
          },
          "metadata": {},
          "execution_count": 28
        }
      ]
    },
    {
      "cell_type": "code",
      "source": [
        "2 * 0.2"
      ],
      "metadata": {
        "id": "uWQ-911qNskj",
        "outputId": "2142c0a3-63e5-4b96-c436-a5caba20725e",
        "colab": {
          "base_uri": "https://localhost:8080/"
        }
      },
      "execution_count": 29,
      "outputs": [
        {
          "output_type": "execute_result",
          "data": {
            "text/plain": [
              "0.4"
            ]
          },
          "metadata": {},
          "execution_count": 29
        }
      ]
    },
    {
      "cell_type": "code",
      "source": [
        "print(0.2 + 0.1)\n",
        "round(0.2+0.1, 1)"
      ],
      "metadata": {
        "id": "BcImgVOtNySt",
        "outputId": "963f97a7-1bda-476d-87b5-899dffad4daf",
        "colab": {
          "base_uri": "https://localhost:8080/"
        }
      },
      "execution_count": 37,
      "outputs": [
        {
          "output_type": "stream",
          "name": "stdout",
          "text": [
            "0.30000000000000004\n"
          ]
        },
        {
          "output_type": "execute_result",
          "data": {
            "text/plain": [
              "0.3"
            ]
          },
          "metadata": {},
          "execution_count": 37
        }
      ]
    },
    {
      "cell_type": "markdown",
      "source": [
        "### Enteros y Floats"
      ],
      "metadata": {
        "id": "a_1vW_FNOIf5"
      }
    },
    {
      "cell_type": "code",
      "source": [
        "4/2"
      ],
      "metadata": {
        "id": "iN7X2ZWWOLFS",
        "outputId": "0dc08454-cf5f-42cd-90f9-ad490ec09f47",
        "colab": {
          "base_uri": "https://localhost:8080/"
        }
      },
      "execution_count": 38,
      "outputs": [
        {
          "output_type": "execute_result",
          "data": {
            "text/plain": [
              "2.0"
            ]
          },
          "metadata": {},
          "execution_count": 38
        }
      ]
    },
    {
      "cell_type": "code",
      "source": [
        "1 + 2.0"
      ],
      "metadata": {
        "id": "D9dA2ELhORGk",
        "outputId": "fe1a32d9-29ee-41c9-94d2-9122ca5e71bd",
        "colab": {
          "base_uri": "https://localhost:8080/"
        }
      },
      "execution_count": 39,
      "outputs": [
        {
          "output_type": "execute_result",
          "data": {
            "text/plain": [
              "3.0"
            ]
          },
          "metadata": {},
          "execution_count": 39
        }
      ]
    },
    {
      "cell_type": "code",
      "source": [
        "1*3.0"
      ],
      "metadata": {
        "id": "wwDLo_S_Vhpr",
        "outputId": "64c9ab56-0d82-48ef-8f0e-9377ecb4c0a3",
        "colab": {
          "base_uri": "https://localhost:8080/"
        }
      },
      "execution_count": 40,
      "outputs": [
        {
          "output_type": "execute_result",
          "data": {
            "text/plain": [
              "3.0"
            ]
          },
          "metadata": {},
          "execution_count": 40
        }
      ]
    },
    {
      "cell_type": "markdown",
      "source": [
        "### Guiones bajos en números"
      ],
      "metadata": {
        "id": "8ICC-mT0OsHE"
      }
    },
    {
      "cell_type": "code",
      "source": [
        "universe_age = 14_000_000_000\n",
        "print(universe_age)"
      ],
      "metadata": {
        "id": "9a4-mKc8OqI8",
        "outputId": "d26cdafb-7280-4a02-bfd7-e4241189cac4",
        "colab": {
          "base_uri": "https://localhost:8080/"
        }
      },
      "execution_count": 41,
      "outputs": [
        {
          "output_type": "stream",
          "name": "stdout",
          "text": [
            "14000000000\n"
          ]
        }
      ]
    },
    {
      "cell_type": "markdown",
      "source": [
        "### Asignación Múltiple"
      ],
      "metadata": {
        "id": "53q3i_pyPEey"
      }
    },
    {
      "cell_type": "code",
      "source": [
        "a, b = 1, 2\n",
        "b"
      ],
      "metadata": {
        "id": "Tp7oXgPsWQzf",
        "outputId": "12f5ca22-586b-47d4-d607-7f8a4397b701",
        "colab": {
          "base_uri": "https://localhost:8080/"
        }
      },
      "execution_count": 42,
      "outputs": [
        {
          "output_type": "execute_result",
          "data": {
            "text/plain": [
              "2"
            ]
          },
          "metadata": {},
          "execution_count": 42
        }
      ]
    },
    {
      "cell_type": "code",
      "source": [
        "x, y, z = 0, 0, 0\n",
        "print(x, y, z)"
      ],
      "metadata": {
        "id": "jZIDGHQePh6B",
        "outputId": "16aa3287-a052-4f84-f00b-610be9a8ea26",
        "colab": {
          "base_uri": "https://localhost:8080/"
        }
      },
      "execution_count": 44,
      "outputs": [
        {
          "output_type": "stream",
          "name": "stdout",
          "text": [
            "0 0 0\n"
          ]
        }
      ]
    },
    {
      "cell_type": "code",
      "source": [
        "y"
      ],
      "metadata": {
        "id": "lQR7E1gtPiyR",
        "outputId": "3c97fa65-cbcc-44b3-8c28-46c117171241",
        "colab": {
          "base_uri": "https://localhost:8080/"
        }
      },
      "execution_count": 45,
      "outputs": [
        {
          "output_type": "execute_result",
          "data": {
            "text/plain": [
              "0"
            ]
          },
          "metadata": {},
          "execution_count": 45
        }
      ]
    },
    {
      "cell_type": "markdown",
      "source": [
        "### Constantes"
      ],
      "metadata": {
        "id": "pncAPB7TPruo"
      }
    },
    {
      "cell_type": "code",
      "source": [
        "MAX_CONNECTIONS = 5000"
      ],
      "metadata": {
        "id": "AUR_RlTEPvZZ"
      },
      "execution_count": 46,
      "outputs": []
    },
    {
      "cell_type": "markdown",
      "source": [
        "<b> Ejercicio </b>\n",
        "\n",
        "Usa una variable para representar un número. Luego, usando esa variable, cree un mensaje que revele su número. Imprime ese mensaje."
      ],
      "metadata": {
        "id": "CpJsuNbVRKZ3"
      }
    },
    {
      "cell_type": "markdown",
      "source": [
        "Doble-click __aquí__ para ver la solución.\n",
        "<!-- La respuesta es:\n",
        "num = 12\n",
        "print(f\"El número es {num}\")\n",
        "-->\n",
        "\n"
      ],
      "metadata": {
        "id": "jMC81ZCBTmJc"
      }
    },
    {
      "cell_type": "markdown",
      "source": [
        "### Comentarios"
      ],
      "metadata": {
        "id": "VAUMMfzqQ_OK"
      }
    },
    {
      "cell_type": "code",
      "source": [
        "# Código para saludar.\n",
        "print(\"Hola programadores de Python!\")"
      ],
      "metadata": {
        "id": "MHCgX32dOnPy",
        "outputId": "5cabc586-7a54-4b4d-b94e-e9ed5cbf0b98",
        "colab": {
          "base_uri": "https://localhost:8080/"
        }
      },
      "execution_count": 50,
      "outputs": [
        {
          "output_type": "stream",
          "name": "stdout",
          "text": [
            "Hola programadores de Python!\n"
          ]
        }
      ]
    },
    {
      "cell_type": "markdown",
      "source": [
        "### El Zen de Python"
      ],
      "metadata": {
        "id": "XTsX-ps8mIBd"
      }
    },
    {
      "cell_type": "code",
      "source": [
        "import this"
      ],
      "metadata": {
        "id": "dB9VCvLST7Gp",
        "outputId": "ae7f3a6a-3349-452e-cbc1-38dfc44334b0",
        "colab": {
          "base_uri": "https://localhost:8080/"
        }
      },
      "execution_count": 51,
      "outputs": [
        {
          "output_type": "stream",
          "name": "stdout",
          "text": [
            "The Zen of Python, by Tim Peters\n",
            "\n",
            "Beautiful is better than ugly.\n",
            "Explicit is better than implicit.\n",
            "Simple is better than complex.\n",
            "Complex is better than complicated.\n",
            "Flat is better than nested.\n",
            "Sparse is better than dense.\n",
            "Readability counts.\n",
            "Special cases aren't special enough to break the rules.\n",
            "Although practicality beats purity.\n",
            "Errors should never pass silently.\n",
            "Unless explicitly silenced.\n",
            "In the face of ambiguity, refuse the temptation to guess.\n",
            "There should be one-- and preferably only one --obvious way to do it.\n",
            "Although that way may not be obvious at first unless you're Dutch.\n",
            "Now is better than never.\n",
            "Although never is often better than *right* now.\n",
            "If the implementation is hard to explain, it's a bad idea.\n",
            "If the implementation is easy to explain, it may be a good idea.\n",
            "Namespaces are one honking great idea -- let's do more of those!\n"
          ]
        }
      ]
    },
    {
      "cell_type": "markdown",
      "source": [
        "### Ejemplo 1.1: Operaciones aritméticas"
      ],
      "metadata": {
        "id": "WVuNuyWsjXsU"
      }
    },
    {
      "cell_type": "code",
      "source": [
        "# Variables numéricas\n",
        "a = 15  # Entero\n",
        "b = 4.7  # Flotante\n"
      ],
      "metadata": {
        "id": "_nYyKe_bjHY5"
      },
      "execution_count": 53,
      "outputs": []
    },
    {
      "cell_type": "code",
      "execution_count": 54,
      "metadata": {
        "id": "MNGFUaC6hyfi",
        "outputId": "3cdb3475-bab4-4180-a7c1-4f724dcea064",
        "colab": {
          "base_uri": "https://localhost:8080/"
        }
      },
      "outputs": [
        {
          "output_type": "stream",
          "name": "stdout",
          "text": [
            "Suma: 19.7\n"
          ]
        }
      ],
      "source": [
        "# Operaciones básicas\n",
        "print(\"Suma:\", a + b)"
      ]
    },
    {
      "cell_type": "code",
      "source": [
        "print(\"Resta:\", a - b)"
      ],
      "metadata": {
        "id": "hbnOS3lsjdWc",
        "outputId": "7eb88d98-bf55-4b28-9a3b-4cd463889fa5",
        "colab": {
          "base_uri": "https://localhost:8080/"
        }
      },
      "execution_count": 55,
      "outputs": [
        {
          "output_type": "stream",
          "name": "stdout",
          "text": [
            "Resta: 10.3\n"
          ]
        }
      ]
    },
    {
      "cell_type": "code",
      "source": [
        "print(\"Multiplicación:\", a * b)"
      ],
      "metadata": {
        "id": "P4v5iGM2jeTc"
      },
      "execution_count": null,
      "outputs": []
    },
    {
      "cell_type": "code",
      "source": [
        "print(\"División:\", a / b)"
      ],
      "metadata": {
        "id": "bngfJL61jfLf"
      },
      "execution_count": null,
      "outputs": []
    },
    {
      "cell_type": "code",
      "source": [
        "print(\"Módulo:\", a % b)  # Residuo de la división"
      ],
      "metadata": {
        "id": "lRmdUaHajgTp",
        "outputId": "68ea9996-1212-4541-dd69-0b810a2dc2c0",
        "colab": {
          "base_uri": "https://localhost:8080/"
        }
      },
      "execution_count": 56,
      "outputs": [
        {
          "output_type": "stream",
          "name": "stdout",
          "text": [
            "Módulo: 0.8999999999999995\n"
          ]
        }
      ]
    },
    {
      "cell_type": "code",
      "source": [
        "print(f'División entera {21//5}')"
      ],
      "metadata": {
        "id": "9FrNyt929FQp",
        "outputId": "b40214f5-a97e-4f1f-8a23-39fbf02e7d0f",
        "colab": {
          "base_uri": "https://localhost:8080/"
        }
      },
      "execution_count": 57,
      "outputs": [
        {
          "output_type": "stream",
          "name": "stdout",
          "text": [
            "División entera 4\n"
          ]
        }
      ]
    },
    {
      "cell_type": "markdown",
      "source": [
        "### Ejercicio 1.1: Operaciones con entrada de usuario\n",
        "\n",
        "Pide al usuario dos números, realiza las operaciones básicas (suma, resta, multiplicación y división) e imprime los resultados.\n",
        "Calcula la raíz cuadrada de un número utilizando la función ** (exponente)."
      ],
      "metadata": {
        "id": "oa1fRACgjlV_"
      }
    },
    {
      "cell_type": "code",
      "source": [
        "a, b = float(input('Ingrese el primer número: ')),float(input('Ingrese el segundo número: '))\n",
        "\n",
        "resultados = [a+b, a-b, a*b, a/b]\n",
        "operaciones = ['suma', 'resta', 'multiplicación', 'división']\n",
        "\n",
        "for i in range(len(resultados)):\n",
        "  print(f'{operaciones[i]}: {resultados[i]}')\n",
        "\n",
        "print()\n",
        "\n",
        "c = float(input('Ingrese el número para calcular la raíz cuadrada: '))\n",
        "print(f'Raíz cuadrada de {c}: {c**(1/2)}')"
      ],
      "metadata": {
        "id": "yrlpPiGWjol1",
        "outputId": "108cc6f8-35a8-4d25-e4d5-319c2df1a04d",
        "colab": {
          "base_uri": "https://localhost:8080/"
        }
      },
      "execution_count": 77,
      "outputs": [
        {
          "output_type": "stream",
          "name": "stdout",
          "text": [
            "Ingrese el primer número: 10\n",
            "Ingrese el segundo número: 10\n",
            "suma: 20.0\n",
            "resta: 0.0\n",
            "multiplicación: 100.0\n",
            "división: 1.0\n",
            "\n",
            "Ingrese el número para calcular la raíz cuadrada: 100\n",
            "Raíz cuadrada de 100.0: 10.0\n"
          ]
        }
      ]
    },
    {
      "cell_type": "markdown",
      "source": [
        "## <b>2. Manipulación de strings</b>\n",
        "\n",
        "Las cadenas de texto (strings) en Python son secuencias de caracteres, y Python proporciona muchos métodos útiles para manipularlas.\n",
        "\n"
      ],
      "metadata": {
        "id": "8q_I9AOBjpH7"
      }
    },
    {
      "cell_type": "markdown",
      "source": [
        "### Ejemplo 2.1: Concatenación y repetición de cadenas"
      ],
      "metadata": {
        "id": "o3SzxNcajzk4"
      }
    },
    {
      "cell_type": "code",
      "source": [
        "nombre = \"Ana\"\n",
        "apellido = \"Sánchez\"\n",
        "nombre_completo = nombre + \" \" + apellido\n",
        "\n",
        "print(\"Nombre completo:\", nombre_completo)\n"
      ],
      "metadata": {
        "id": "Uu2JI0Ycj7DM",
        "outputId": "ac05897a-8427-40ca-af3c-183bc4bf4784",
        "colab": {
          "base_uri": "https://localhost:8080/"
        }
      },
      "execution_count": 78,
      "outputs": [
        {
          "output_type": "stream",
          "name": "stdout",
          "text": [
            "Nombre completo: Ana Sánchez\n"
          ]
        }
      ]
    },
    {
      "cell_type": "code",
      "source": [
        "# Repetición\n",
        "\n",
        "repetido = \"Python! \" * 3\n",
        "print(repetido)\n"
      ],
      "metadata": {
        "id": "j8UcjDF7j9JX",
        "outputId": "fb527338-552e-4054-d98f-ba70130bec04",
        "colab": {
          "base_uri": "https://localhost:8080/"
        }
      },
      "execution_count": 79,
      "outputs": [
        {
          "output_type": "stream",
          "name": "stdout",
          "text": [
            "Python! Python! Python! \n"
          ]
        }
      ]
    },
    {
      "cell_type": "markdown",
      "source": [
        "### Ejercicio 2.1: Creando saludos\n",
        "\n",
        "- Pide al usuario su nombre y apellido, luego genera un saludo en el formato: \"¡Hola, [Nombre Apellido]!\".\n",
        "\n",
        "- Usa repetición para imprimir el saludo 5 veces.\n"
      ],
      "metadata": {
        "id": "v9o0-F4FkBRa"
      }
    },
    {
      "cell_type": "code",
      "source": [
        "n, a = (input(\"Ingresa tu nombre: \")), (input(\"Ingresa tu apellido: \"))\n",
        "print(f'¡Hola, {n} {a}!\\n' * 5)"
      ],
      "metadata": {
        "id": "V3ZGMDOKkY29",
        "outputId": "88be6e64-598b-4dc3-8d83-fedb9ed82895",
        "colab": {
          "base_uri": "https://localhost:8080/"
        }
      },
      "execution_count": 86,
      "outputs": [
        {
          "output_type": "stream",
          "name": "stdout",
          "text": [
            "Ingresa tu nombre: h\n",
            "Ingresa tu apellido: v\n",
            "¡Hola, h v!\n",
            "¡Hola, h v!\n",
            "¡Hola, h v!\n",
            "¡Hola, h v!\n",
            "¡Hola, h v!\n",
            "\n"
          ]
        }
      ]
    },
    {
      "cell_type": "markdown",
      "source": [
        "### Ejemplo 2.2: Métodos strip(), lstrip() y rstrip()\n"
      ],
      "metadata": {
        "id": "8FWZtWkzkZMW"
      }
    },
    {
      "cell_type": "code",
      "source": [
        "# Métodos para eliminar espacios\n",
        "\n",
        "texto = \"   Python es genial   \"\n",
        "print(\"Original:\", texto)\n"
      ],
      "metadata": {
        "id": "fBMrjpJgkdKk",
        "outputId": "d6c82682-1938-4537-8d7e-c1ff64cfc4f3",
        "colab": {
          "base_uri": "https://localhost:8080/"
        }
      },
      "execution_count": 102,
      "outputs": [
        {
          "output_type": "stream",
          "name": "stdout",
          "text": [
            "Original:    Python es genial   \n"
          ]
        }
      ]
    },
    {
      "cell_type": "code",
      "source": [
        "print(\"Con strip():\", texto.strip())    # Elimina espacios al inicio y final\n",
        "\n"
      ],
      "metadata": {
        "id": "sBFoDUsvkf76",
        "outputId": "122906d2-425e-4b65-b79b-a4ae8c3f0de0",
        "colab": {
          "base_uri": "https://localhost:8080/"
        }
      },
      "execution_count": 103,
      "outputs": [
        {
          "output_type": "stream",
          "name": "stdout",
          "text": [
            "Con strip(): Python es genial\n"
          ]
        }
      ]
    },
    {
      "cell_type": "code",
      "source": [
        "print(\"Con lstrip():\", texto.lstrip())  # Elimina espacios al inicio\n"
      ],
      "metadata": {
        "id": "Pi1FADDIkgVS",
        "outputId": "77591a2e-4ad8-40da-8ea5-4d861e2486f8",
        "colab": {
          "base_uri": "https://localhost:8080/"
        }
      },
      "execution_count": 104,
      "outputs": [
        {
          "output_type": "stream",
          "name": "stdout",
          "text": [
            "Con lstrip(): Python es genial   \n"
          ]
        }
      ]
    },
    {
      "cell_type": "code",
      "source": [
        "print(\"Con rstrip():\", texto.rstrip())  # Elimina espacios al final"
      ],
      "metadata": {
        "id": "foufxFkLkhdR",
        "outputId": "3ee87e99-f5f3-4590-8c67-4a073b0ca9c8",
        "colab": {
          "base_uri": "https://localhost:8080/"
        }
      },
      "execution_count": 105,
      "outputs": [
        {
          "output_type": "stream",
          "name": "stdout",
          "text": [
            "Con rstrip():    Python es genial\n"
          ]
        }
      ]
    },
    {
      "cell_type": "markdown",
      "source": [
        "### Ejercicio 2.2: Eliminar espacios en cadenas\n",
        "\n",
        "Pide al usuario que ingrese una frase con espacios extra al inicio y al final.\n",
        "\n",
        "- Usa strip() para eliminar los espacios en blanco.\n",
        "- Usa lstrip() para eliminar los espacios al inicio.\n",
        "- Usa rstrip() para eliminar los espacios al final.\n",
        "\n",
        "Imprime los resultados después de aplicar cada método."
      ],
      "metadata": {
        "id": "ONAVddiUkk0I"
      }
    },
    {
      "cell_type": "code",
      "source": [],
      "metadata": {
        "id": "jfyhX8FmksPF"
      },
      "execution_count": null,
      "outputs": []
    },
    {
      "cell_type": "markdown",
      "source": [
        "### Ejemplo 2.3: Métodos adicionales de cadenas\n"
      ],
      "metadata": {
        "id": "-RVPfhVTksuv"
      }
    },
    {
      "cell_type": "code",
      "source": [
        "# Otros métodos útiles\n",
        "texto = \"Hola Pythonista\"\n"
      ],
      "metadata": {
        "id": "uP3nSEXMkupC"
      },
      "execution_count": 110,
      "outputs": []
    },
    {
      "cell_type": "code",
      "source": [
        "print(texto.upper())  # Convierte todo a mayúsculas\n"
      ],
      "metadata": {
        "id": "Q6UBYyhFkxLX",
        "outputId": "c9a35943-7ef1-4ac5-da05-f00b83dabfbf",
        "colab": {
          "base_uri": "https://localhost:8080/"
        }
      },
      "execution_count": 111,
      "outputs": [
        {
          "output_type": "stream",
          "name": "stdout",
          "text": [
            "HOLA PYTHONISTA\n"
          ]
        }
      ]
    },
    {
      "cell_type": "code",
      "source": [
        "print(texto.lower())  # Convierte todo a minúsculas\n"
      ],
      "metadata": {
        "id": "4Yk0_9t9kxjV",
        "outputId": "55098c25-cebe-475a-f791-af0ffeafc6d8",
        "colab": {
          "base_uri": "https://localhost:8080/"
        }
      },
      "execution_count": 106,
      "outputs": [
        {
          "output_type": "stream",
          "name": "stdout",
          "text": [
            "   python es genial   \n"
          ]
        }
      ]
    },
    {
      "cell_type": "code",
      "source": [
        "print(texto.title())\n",
        "print(texto.capitalize())"
      ],
      "metadata": {
        "id": "O_ahEjzyHcfq",
        "outputId": "7e13b3f6-bc2a-442e-ca2d-4a8fd26df77e",
        "colab": {
          "base_uri": "https://localhost:8080/"
        }
      },
      "execution_count": 113,
      "outputs": [
        {
          "output_type": "stream",
          "name": "stdout",
          "text": [
            "Hola Pythonista\n",
            "Hola pythonista\n"
          ]
        }
      ]
    },
    {
      "cell_type": "code",
      "source": [
        "\n",
        "print(texto.replace(\"Pythonista\", \"Programador\"))  # Reemplaza una palabra\n"
      ],
      "metadata": {
        "id": "UH3Uf1t_kyBu",
        "outputId": "cd97747d-9776-4c51-c0f5-2c333e417377",
        "colab": {
          "base_uri": "https://localhost:8080/"
        }
      },
      "execution_count": 112,
      "outputs": [
        {
          "output_type": "stream",
          "name": "stdout",
          "text": [
            "Hola Programador\n"
          ]
        }
      ]
    },
    {
      "cell_type": "markdown",
      "source": [
        "### Ejercicio 2.3: Transformando cadenas\n",
        "\n",
        "Pide al usuario que ingrese una frase, luego:\n",
        "- Convierte toda la frase a mayúsculas.\n",
        "- Reemplaza una palabra de la frase por otra y muestra el resultado.\n",
        "- Imprime la longitud de la frase."
      ],
      "metadata": {
        "id": "N1k_7rlXk3M3"
      }
    },
    {
      "cell_type": "code",
      "source": [],
      "metadata": {
        "id": "wcDoawq0mrpr"
      },
      "execution_count": null,
      "outputs": []
    },
    {
      "cell_type": "markdown",
      "source": [
        "## <b>3. Estructuras de control: Condicionales</b>\n"
      ],
      "metadata": {
        "id": "8Pw1lVQAk_1c"
      }
    },
    {
      "cell_type": "markdown",
      "source": [
        "Las estructuras condicionales permiten que un programa tome decisiones en función de las condiciones que se cumplan."
      ],
      "metadata": {
        "id": "E4pOl2C8lKzF"
      }
    },
    {
      "cell_type": "markdown",
      "source": [
        "### Igualdades"
      ],
      "metadata": {
        "id": "NhyOyyLtnaLV"
      }
    },
    {
      "cell_type": "code",
      "source": [
        "1 = 2"
      ],
      "metadata": {
        "id": "YZkf5aLHmhde"
      },
      "execution_count": null,
      "outputs": []
    },
    {
      "cell_type": "code",
      "source": [
        "1 == 2"
      ],
      "metadata": {
        "id": "qi5sJLuUmR0m"
      },
      "execution_count": null,
      "outputs": []
    },
    {
      "cell_type": "code",
      "source": [
        "2 == 2"
      ],
      "metadata": {
        "id": "8T_pNL9gmoT8"
      },
      "execution_count": null,
      "outputs": []
    },
    {
      "cell_type": "code",
      "source": [
        "2 == 2.0"
      ],
      "metadata": {
        "id": "hSQ9bC3Vmy96"
      },
      "execution_count": null,
      "outputs": []
    },
    {
      "cell_type": "code",
      "source": [
        "car = 'bmw'\n",
        "car == 'bmw'"
      ],
      "metadata": {
        "id": "PukwJABJm1rP"
      },
      "execution_count": null,
      "outputs": []
    },
    {
      "cell_type": "code",
      "source": [
        "car = 'audi'\n",
        "car == 'bmw'"
      ],
      "metadata": {
        "id": "cz5ibI_Wm9lq"
      },
      "execution_count": null,
      "outputs": []
    },
    {
      "cell_type": "markdown",
      "source": [
        "Ignorando Mayusculas en igualdades"
      ],
      "metadata": {
        "id": "yEggshtHom4j"
      }
    },
    {
      "cell_type": "code",
      "source": [
        "car = 'Audi'\n",
        "car == 'audi'"
      ],
      "metadata": {
        "id": "2tLQKu9KnLC3"
      },
      "execution_count": null,
      "outputs": []
    },
    {
      "cell_type": "code",
      "source": [
        "car.lower()"
      ],
      "metadata": {
        "id": "VFNGrgdfnZPK"
      },
      "execution_count": null,
      "outputs": []
    },
    {
      "cell_type": "code",
      "source": [
        "car.upper()"
      ],
      "metadata": {
        "id": "8SDmobRZnNsl"
      },
      "execution_count": null,
      "outputs": []
    },
    {
      "cell_type": "code",
      "source": [
        "car = 'Audi'\n",
        "car.lower() == 'audi'"
      ],
      "metadata": {
        "id": "WOnmTIX9m3IQ"
      },
      "execution_count": null,
      "outputs": []
    },
    {
      "cell_type": "markdown",
      "source": [
        "### Desigualdades"
      ],
      "metadata": {
        "id": "QJzj1X6undzm"
      }
    },
    {
      "cell_type": "code",
      "source": [
        "1 != 2"
      ],
      "metadata": {
        "id": "9u0Sho8vno-g"
      },
      "execution_count": null,
      "outputs": []
    },
    {
      "cell_type": "code",
      "source": [
        "'Audi' != 'audi'"
      ],
      "metadata": {
        "id": "EADKhXulntOP"
      },
      "execution_count": null,
      "outputs": []
    },
    {
      "cell_type": "code",
      "source": [
        "2 != 2.0"
      ],
      "metadata": {
        "id": "lRCCtFKBnweq"
      },
      "execution_count": null,
      "outputs": []
    },
    {
      "cell_type": "code",
      "source": [
        "requested_topping = 'champiñones'\n",
        "\n",
        "if requested_topping != 'Anchoas':\n",
        "  print(\"Sostén las Anchoas!\")\n"
      ],
      "metadata": {
        "id": "4x_KuchGnhHR"
      },
      "execution_count": null,
      "outputs": []
    },
    {
      "cell_type": "markdown",
      "source": [
        "### Comparar Números"
      ],
      "metadata": {
        "id": "9hZEAyQNpIDq"
      }
    },
    {
      "cell_type": "code",
      "source": [
        "age = 18\n",
        "age == 18"
      ],
      "metadata": {
        "id": "TkAawBSMpHmN"
      },
      "execution_count": null,
      "outputs": []
    },
    {
      "cell_type": "code",
      "source": [
        "answer = 17\n",
        "\n",
        "if answer != 42:\n",
        "  print(\"Respuesta incorrecta, intenta nuevamente!\")"
      ],
      "metadata": {
        "id": "cuh3qVzEp14h"
      },
      "execution_count": null,
      "outputs": []
    },
    {
      "cell_type": "code",
      "source": [
        "answer = int(input('Ingrese su respuesta: '))\n",
        "\n",
        "if answer != 42:\n",
        "  print(\"Respuesta incorrecta, intenta nuevamente!\")"
      ],
      "metadata": {
        "id": "Q8P2FyvworiB"
      },
      "execution_count": null,
      "outputs": []
    },
    {
      "cell_type": "code",
      "source": [
        "age = 19\n",
        "age < 21"
      ],
      "metadata": {
        "id": "BSGJ9oNEqCOj"
      },
      "execution_count": null,
      "outputs": []
    },
    {
      "cell_type": "code",
      "source": [
        "age <= 21"
      ],
      "metadata": {
        "id": "wf3dMEHIqGh-"
      },
      "execution_count": null,
      "outputs": []
    },
    {
      "cell_type": "code",
      "source": [
        "age > 21"
      ],
      "metadata": {
        "id": "ALtGWaW_qIEG"
      },
      "execution_count": null,
      "outputs": []
    },
    {
      "cell_type": "code",
      "source": [
        "age >= 21"
      ],
      "metadata": {
        "id": "U-sv2_SKqJ3T"
      },
      "execution_count": null,
      "outputs": []
    },
    {
      "cell_type": "markdown",
      "source": [
        "### Condicionales múltiples"
      ],
      "metadata": {
        "id": "Ul7K_VXA69Hg"
      }
    },
    {
      "cell_type": "code",
      "source": [
        "age_0 = 22\n",
        "age_1 = 18\n",
        "age_0 >= 21 and age_1 >= 21"
      ],
      "metadata": {
        "id": "fPhw2J5U7Fgs"
      },
      "execution_count": null,
      "outputs": []
    },
    {
      "cell_type": "code",
      "source": [
        "age_1 = 22\n",
        "age_0 >= 21 and age_1 >= 21"
      ],
      "metadata": {
        "id": "vxSjikcs7zkf"
      },
      "execution_count": null,
      "outputs": []
    },
    {
      "cell_type": "code",
      "source": [
        "(age_0 >= 21) and (age_1 >= 21)"
      ],
      "metadata": {
        "id": "4sdZ7nWN75LC"
      },
      "execution_count": null,
      "outputs": []
    },
    {
      "cell_type": "code",
      "source": [
        "age_0 = 22\n",
        "age_1 = 18\n",
        "age_0 >= 21 or age_1 >= 21"
      ],
      "metadata": {
        "id": "I_gV0j1n8NJA"
      },
      "execution_count": null,
      "outputs": []
    },
    {
      "cell_type": "code",
      "source": [
        "age_0 = 18\n",
        "age_0 >= 21 or age_1 >= 21"
      ],
      "metadata": {
        "id": "OutmfEzZ-9jQ"
      },
      "execution_count": null,
      "outputs": []
    },
    {
      "cell_type": "markdown",
      "source": [
        "### Ejemplo 3.1: Condicionales simples (if, else, elif)\n"
      ],
      "metadata": {
        "id": "KA3FsiMQlLp_"
      }
    },
    {
      "cell_type": "code",
      "source": [
        "edad = int(input(\"¿Cuántos años tienes? \"))\n",
        "\n",
        "if edad >= 18:\n",
        "    print(\"Eres mayor de edad.\")\n",
        "else:\n",
        "    print(\"Eres menor de edad.\")\n"
      ],
      "metadata": {
        "id": "FgqtGbP8lNvd"
      },
      "execution_count": null,
      "outputs": []
    },
    {
      "cell_type": "markdown",
      "source": [
        "### Ejercicio 3.1: Descuento basado en la edad\n",
        "\n",
        "Pide al usuario ingresar su edad y usa condicionales para aplicar los siguientes descuentos:\n",
        "- Si es menor de 18 años, obtiene un 50% de descuento.\n",
        "- Si tiene entre 18 y 65 años, obtiene un 10% de descuento.\n",
        "- Si es mayor de 65 años, obtiene un 30% de descuento."
      ],
      "metadata": {
        "id": "vp3MgC__lQyw"
      }
    },
    {
      "cell_type": "code",
      "source": [],
      "metadata": {
        "id": "8wxUXYwOlYNE"
      },
      "execution_count": null,
      "outputs": []
    },
    {
      "cell_type": "markdown",
      "source": [
        "### Ejemplo 3.2: Condicionales con varias condiciones\n"
      ],
      "metadata": {
        "id": "x69-544MlYj_"
      }
    },
    {
      "cell_type": "code",
      "source": [
        "temperatura = int(input(\"¿Cuál es la temperatura actual en grados? \"))\n",
        "\n",
        "if temperatura > 30:\n",
        "    print(\"Hace mucho calor.\")\n",
        "elif temperatura > 20:\n",
        "    print(\"El clima es agradable.\")\n",
        "else:\n",
        "    print(\"Hace frío.\")\n"
      ],
      "metadata": {
        "id": "NJsA92zIlaox"
      },
      "execution_count": null,
      "outputs": []
    },
    {
      "cell_type": "markdown",
      "source": [
        "### Ejercicio 3.2: Estado de la temperatura\n",
        "\n",
        "Crea un programa que pida al usuario la temperatura en su ciudad y determine:\n",
        "- Si es mayor de 30 grados, imprime \"Hace mucho calor\".\n",
        "- Si está entre 20 y 30 grados, imprime \"El clima es agradable\".\n",
        "- Si es menor de 20 grados, imprime \"Hace frío\"."
      ],
      "metadata": {
        "id": "803QF-Ubldb2"
      }
    },
    {
      "cell_type": "code",
      "source": [],
      "metadata": {
        "id": "UkrBmkIcmoP_"
      },
      "execution_count": null,
      "outputs": []
    },
    {
      "cell_type": "markdown",
      "source": [
        "### Ejemplo 3.3: Anidamiento de condicionales\n"
      ],
      "metadata": {
        "id": "mZr5Inw5llEd"
      }
    },
    {
      "cell_type": "code",
      "source": [
        "edad = int(input(\"¿Cuál es tu edad? \"))\n",
        "ingreso = int(input(\"¿Cuál es tu ingreso mensual en USD? \"))\n",
        "\n",
        "if edad >= 18:\n",
        "    if ingreso >= 1000:\n",
        "        print(\"Puedes solicitar una tarjeta de crédito.\")\n",
        "    else:\n",
        "        print(\"No tienes suficiente ingreso para solicitar una tarjeta.\")\n",
        "else:\n",
        "    print(\"Debes ser mayor de 18 para solicitar una tarjeta.\")\n"
      ],
      "metadata": {
        "id": "-9keYMbAlnBd"
      },
      "execution_count": null,
      "outputs": []
    },
    {
      "cell_type": "markdown",
      "source": [
        "### Ejercicio 3.3: Sistema de votación\n",
        "\n",
        "Crea un programa que determine si una persona puede votar. Pide al usuario su nacionalidad y edad.\n",
        "- Si la persona es de nacionalidad \"Peruana\" y mayor de 18 años, permite que vote.\n",
        "- Si es menor de edad o no es de esa nacionalidad, no puede votar."
      ],
      "metadata": {
        "id": "s98IAPjIlpkY"
      }
    },
    {
      "cell_type": "code",
      "source": [],
      "metadata": {
        "id": "Ii171M1omnjG"
      },
      "execution_count": null,
      "outputs": []
    },
    {
      "cell_type": "markdown",
      "source": [
        "### Ejemplo 3.4: Condicionales con operadores lógicos\n"
      ],
      "metadata": {
        "id": "NTCPiw7Mlv8N"
      }
    },
    {
      "cell_type": "code",
      "source": [
        "nota = int(input(\"¿Cuál es tu nota? \"))\n",
        "\n",
        "if nota >= 90 and nota <= 100:\n",
        "    print(\"Excelente\")\n",
        "elif nota >= 70 and nota < 90:\n",
        "    print(\"Aprobado\")\n",
        "else:\n",
        "    print(\"Reprobado\")\n"
      ],
      "metadata": {
        "id": "hp478v7tlyAz"
      },
      "execution_count": null,
      "outputs": []
    },
    {
      "cell_type": "markdown",
      "source": [
        "### Ejercicio 3.4: Notas de estudiantes\n",
        "\n",
        "Escribe un programa que determine la calificación de un estudiante en función de su nota:\n",
        "- Si la nota es mayor o igual a 90: \"Sobresaliente\".\n",
        "- Si está entre 70 y 89: \"Aprobado\".\n",
        "- Si es menor de 70: \"Desaprobado\"."
      ],
      "metadata": {
        "id": "GdtTJckEl0TL"
      }
    },
    {
      "cell_type": "code",
      "source": [],
      "metadata": {
        "id": "Mo1leF6PmnG4"
      },
      "execution_count": null,
      "outputs": []
    },
    {
      "cell_type": "markdown",
      "source": [
        "## <b>4. Desafío</b>"
      ],
      "metadata": {
        "id": "K8ioDMpJl8zI"
      }
    },
    {
      "cell_type": "markdown",
      "source": [
        "### Desafío 1: Calculadora de propinas inteligente\n",
        "\n",
        "Crea un programa que simule una calculadora de propinas en un restaurante. El programa debe:\n",
        "\n",
        "- Pedir al usuario que ingrese el total de la cuenta.\n",
        "- Pedir el porcentaje de propina que le gustaría dejar (por ejemplo, 10%, 15%, 20%).\n",
        "\n",
        "Usar condicionales para sugerir automáticamente un valor si no se ingresa un porcentaje, basándose en la experiencia:\n",
        "\n",
        "- Si el servicio fue excelente, sugerir 20%.\n",
        "- Si el servicio fue bueno, sugerir 15%.\n",
        "- Si el servicio fue mediocre, sugerir 10%.\n",
        "- Si el servicio fue malo, no sugerir propina.\n",
        "\n",
        "Calcular e imprimir la cantidad de propina y el total a pagar (cuenta + propina)."
      ],
      "metadata": {
        "id": "mQkPuK6ymKTk"
      }
    },
    {
      "cell_type": "code",
      "source": [],
      "metadata": {
        "id": "43HiaKjEmmPg"
      },
      "execution_count": null,
      "outputs": []
    },
    {
      "cell_type": "markdown",
      "source": [
        "### Desafío 2: Clasificación de Números\n",
        "\n",
        "Escribe un programa que clasifique un número dado por el usuario según sus características numéricas. El programa debe:\n",
        "\n",
        "Pedir al usuario que ingrese un número entero.\n",
        "\n",
        "Determinar si el número es:\n",
        "- Par o impar.\n",
        "- Positivo, negativo o cero.\n",
        "- Primo o no primo (un número primo solo es divisible por 1 y por sí mismo).\n",
        "- Imprimir una clasificación completa del número según las tres categorías anteriores."
      ],
      "metadata": {
        "id": "GO8pGoUJmuMM"
      }
    },
    {
      "cell_type": "code",
      "source": [],
      "metadata": {
        "id": "9cSqIXwvnnT_"
      },
      "execution_count": null,
      "outputs": []
    },
    {
      "cell_type": "markdown",
      "source": [
        "---\n",
        "\n",
        "# Gracias por completar este laboratorio!\n",
        "\n",
        "---"
      ],
      "metadata": {
        "id": "_G9dWzTgp6-m"
      }
    }
  ]
}